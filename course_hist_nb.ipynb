{
 "cells": [
  {
   "cell_type": "code",
   "execution_count": 23,
   "metadata": {},
   "outputs": [
    {
     "ename": "FileNotFoundError",
     "evalue": "[Errno 2] No such file or directory: '/babyalgebraist.github.io/assets/data'",
     "output_type": "error",
     "traceback": [
      "\u001b[0;31m---------------------------------------------------------------------------\u001b[0m",
      "\u001b[0;31mFileNotFoundError\u001b[0m                         Traceback (most recent call last)",
      "\u001b[0;32m<ipython-input-23-9b6cbb212324>\u001b[0m in \u001b[0;36m<module>\u001b[0;34m\u001b[0m\n\u001b[1;32m      9\u001b[0m \u001b[0;34m\u001b[0m\u001b[0m\n\u001b[1;32m     10\u001b[0m \u001b[0mWORKING_DIR\u001b[0m \u001b[0;34m=\u001b[0m \u001b[0mos\u001b[0m\u001b[0;34m.\u001b[0m\u001b[0mpath\u001b[0m\u001b[0;34m.\u001b[0m\u001b[0mjoin\u001b[0m\u001b[0;34m(\u001b[0m\u001b[0;34m'/babyalgebraist.github.io'\u001b[0m\u001b[0;34m,\u001b[0m\u001b[0;34m'assets'\u001b[0m\u001b[0;34m,\u001b[0m \u001b[0;34m'data'\u001b[0m\u001b[0;34m)\u001b[0m\u001b[0;34m\u001b[0m\u001b[0;34m\u001b[0m\u001b[0m\n\u001b[0;32m---> 11\u001b[0;31m \u001b[0mos\u001b[0m\u001b[0;34m.\u001b[0m\u001b[0mchdir\u001b[0m\u001b[0;34m(\u001b[0m\u001b[0mWORKING_DIR\u001b[0m\u001b[0;34m)\u001b[0m\u001b[0;34m\u001b[0m\u001b[0;34m\u001b[0m\u001b[0m\n\u001b[0m\u001b[1;32m     12\u001b[0m \u001b[0;34m\u001b[0m\u001b[0m\n\u001b[1;32m     13\u001b[0m \u001b[0;32mdef\u001b[0m \u001b[0mgetTables\u001b[0m\u001b[0;34m(\u001b[0m\u001b[0mhtmlDoc\u001b[0m\u001b[0;34m)\u001b[0m\u001b[0;34m:\u001b[0m\u001b[0;34m\u001b[0m\u001b[0;34m\u001b[0m\u001b[0m\n",
      "\u001b[0;31mFileNotFoundError\u001b[0m: [Errno 2] No such file or directory: '/babyalgebraist.github.io/assets/data'"
     ]
    }
   ],
   "source": [
    "# 1. Use beautifulsoup to \n",
    "# 2. Confirm loaded correctly\n",
    "# 3. define def to find the table\n",
    "# what does it return the table as? \n",
    "\n",
    "import os\n",
    "import pandas as pd\n",
    "from bs4 import BeautifulSoup as bs\n",
    "\n",
    "WORKING_DIR = os.path.join('/babyalgebraist.github.io','assets', 'data')\n",
    "os.chdir(WORKING_DIR)\n",
    "\n",
    "def getTables(htmlDoc):\n",
    "\twith open(htmlDoc) as fp:\n",
    "\t\tsoup = bs(fp)\n",
    "\treturn soup.findAll('table')\n",
    "\t\n",
    "course_hist = getTables('assets/data/course_record_raw.html')\n",
    "\n",
    "print(course_hist)"
   ]
  },
  {
   "cell_type": "markdown",
   "metadata": {},
   "source": [
    "But all this does is find the table enclosed in the `table` tag. I want to get rid of all that and have what's in the cells. \n",
    "\n",
    "Try Pandas next"
   ]
  },
  {
   "cell_type": "code",
   "execution_count": 2,
   "metadata": {},
   "outputs": [
    {
     "data": {
      "text/plain": [
       "12"
      ]
     },
     "execution_count": 2,
     "metadata": {},
     "output_type": "execute_result"
    }
   ],
   "source": [
    "col_names = ['Course', 'Num','Section',\t'Description',\t\n",
    "             'Attempted','Grade','Notation',\t\n",
    "             'GPA','Class Avg',\t'Class Size',\t\n",
    "             'Credits Earned','Other']\n",
    "len(col_names)"
   ]
  },
  {
   "cell_type": "code",
   "execution_count": 2,
   "metadata": {},
   "outputs": [],
   "source": [
    "df_list = pd.read_html('course_history.html')\n",
    "\n",
    "files = []\n",
    "for i, df in enumerate(df_list):\n",
    "#     print(df)\n",
    "    df.to_csv('table_{}.csv'.format(i), header=None, index=False)\n",
    "    files.append('table_{}.csv'.format(i))"
   ]
  },
  {
   "cell_type": "code",
   "execution_count": 6,
   "metadata": {},
   "outputs": [
    {
     "data": {
      "text/plain": [
       "[   Course_Num                   Description\n",
       " 0    FRAN 305           Communication Orale\n",
       " 1    GEOL 210     Introduction To The Earth\n",
       " 2    MAST 217   Intro/Mathematical Thinking\n",
       " 3    MAST 219     Multivariable Calculus Ii\n",
       " 4    MECH 211      Mechanical Engr. Drawing\n",
       " 5    GEOL 208   The Earth, Moon And Planets\n",
       " 6    MATH 252             Linear Algebra Ii\n",
       " 7    MATH 365                   Analysis Ii\n",
       " 8    STAT 249                 Probability I\n",
       " 9    MATH 366            Complex Analysis I\n",
       " 10   MATH 369            Abstract Algebra I\n",
       " 11   MATH 392      Elementary Number Theory\n",
       " 12   MATH 475    Discrete Dynamical Systems\n",
       " 13   MATH 252             Linear Algebra Ii\n",
       " 14   MATH 467                Measure Theory\n",
       " 15   MATH 470           Abstract Algebra Ii\n",
       " 16   MATH 494                    Set Theory\n",
       " 17   MATH 354            Numerical Analysis\n",
       " 18   MATH 370  Ordinary Differential Equat.\n",
       " 19   MATH 464                 Real Analysis\n",
       " 20   MATH 494       Algebraic Number Theory\n",
       " 21   MATH 457             Honours Algebra 4\n",
       " 22   MATH 494               Random Matrices]"
      ]
     },
     "execution_count": 6,
     "metadata": {},
     "output_type": "execute_result"
    }
   ],
   "source": [
    "df_list"
   ]
  },
  {
   "cell_type": "code",
   "execution_count": 3,
   "metadata": {},
   "outputs": [
    {
     "ename": "ValueError",
     "evalue": "No objects to concatenate",
     "output_type": "error",
     "traceback": [
      "\u001b[0;31m---------------------------------------------------------------------------\u001b[0m",
      "\u001b[0;31mValueError\u001b[0m                                Traceback (most recent call last)",
      "\u001b[0;32m<ipython-input-3-118960b41bfb>\u001b[0m in \u001b[0;36m<module>\u001b[0;34m\u001b[0m\n\u001b[1;32m      6\u001b[0m \u001b[0;34m\u001b[0m\u001b[0m\n\u001b[1;32m      7\u001b[0m \u001b[0mdfs_list\u001b[0m \u001b[0;34m=\u001b[0m \u001b[0mlist\u001b[0m\u001b[0;34m(\u001b[0m\u001b[0mdict_of_df\u001b[0m\u001b[0;34m.\u001b[0m\u001b[0mkeys\u001b[0m\u001b[0;34m(\u001b[0m\u001b[0;34m)\u001b[0m\u001b[0;34m)\u001b[0m\u001b[0;34m\u001b[0m\u001b[0;34m\u001b[0m\u001b[0m\n\u001b[0;32m----> 8\u001b[0;31m \u001b[0mdf\u001b[0m \u001b[0;34m=\u001b[0m \u001b[0mpd\u001b[0m\u001b[0;34m.\u001b[0m\u001b[0mconcat\u001b[0m\u001b[0;34m(\u001b[0m\u001b[0mdict_of_df\u001b[0m\u001b[0;34m,\u001b[0m \u001b[0mignore_index\u001b[0m\u001b[0;34m=\u001b[0m\u001b[0;32mTrue\u001b[0m\u001b[0;34m)\u001b[0m\u001b[0;34m\u001b[0m\u001b[0;34m\u001b[0m\u001b[0m\n\u001b[0m\u001b[1;32m      9\u001b[0m \u001b[0;31m# display(df)\u001b[0m\u001b[0;34m\u001b[0m\u001b[0;34m\u001b[0m\u001b[0;34m\u001b[0m\u001b[0m\n\u001b[1;32m     10\u001b[0m \u001b[0mdf\u001b[0m\u001b[0;34m.\u001b[0m\u001b[0mdrop\u001b[0m\u001b[0;34m(\u001b[0m\u001b[0mcolumns\u001b[0m\u001b[0;34m=\u001b[0m\u001b[0;34m[\u001b[0m\u001b[0;34m'Section'\u001b[0m\u001b[0;34m]\u001b[0m\u001b[0;34m,\u001b[0m \u001b[0minplace\u001b[0m\u001b[0;34m=\u001b[0m\u001b[0;32mTrue\u001b[0m\u001b[0;34m)\u001b[0m\u001b[0;34m\u001b[0m\u001b[0;34m\u001b[0m\u001b[0m\n",
      "\u001b[0;32m~/anaconda3/lib/python3.7/site-packages/pandas/core/reshape/concat.py\u001b[0m in \u001b[0;36mconcat\u001b[0;34m(objs, axis, join, join_axes, ignore_index, keys, levels, names, verify_integrity, sort, copy)\u001b[0m\n\u001b[1;32m    226\u001b[0m                        \u001b[0mkeys\u001b[0m\u001b[0;34m=\u001b[0m\u001b[0mkeys\u001b[0m\u001b[0;34m,\u001b[0m \u001b[0mlevels\u001b[0m\u001b[0;34m=\u001b[0m\u001b[0mlevels\u001b[0m\u001b[0;34m,\u001b[0m \u001b[0mnames\u001b[0m\u001b[0;34m=\u001b[0m\u001b[0mnames\u001b[0m\u001b[0;34m,\u001b[0m\u001b[0;34m\u001b[0m\u001b[0;34m\u001b[0m\u001b[0m\n\u001b[1;32m    227\u001b[0m                        \u001b[0mverify_integrity\u001b[0m\u001b[0;34m=\u001b[0m\u001b[0mverify_integrity\u001b[0m\u001b[0;34m,\u001b[0m\u001b[0;34m\u001b[0m\u001b[0;34m\u001b[0m\u001b[0m\n\u001b[0;32m--> 228\u001b[0;31m                        copy=copy, sort=sort)\n\u001b[0m\u001b[1;32m    229\u001b[0m     \u001b[0;32mreturn\u001b[0m \u001b[0mop\u001b[0m\u001b[0;34m.\u001b[0m\u001b[0mget_result\u001b[0m\u001b[0;34m(\u001b[0m\u001b[0;34m)\u001b[0m\u001b[0;34m\u001b[0m\u001b[0;34m\u001b[0m\u001b[0m\n\u001b[1;32m    230\u001b[0m \u001b[0;34m\u001b[0m\u001b[0m\n",
      "\u001b[0;32m~/anaconda3/lib/python3.7/site-packages/pandas/core/reshape/concat.py\u001b[0m in \u001b[0;36m__init__\u001b[0;34m(self, objs, axis, join, join_axes, keys, levels, names, ignore_index, verify_integrity, copy, sort)\u001b[0m\n\u001b[1;32m    260\u001b[0m \u001b[0;34m\u001b[0m\u001b[0m\n\u001b[1;32m    261\u001b[0m         \u001b[0;32mif\u001b[0m \u001b[0mlen\u001b[0m\u001b[0;34m(\u001b[0m\u001b[0mobjs\u001b[0m\u001b[0;34m)\u001b[0m \u001b[0;34m==\u001b[0m \u001b[0;36m0\u001b[0m\u001b[0;34m:\u001b[0m\u001b[0;34m\u001b[0m\u001b[0;34m\u001b[0m\u001b[0m\n\u001b[0;32m--> 262\u001b[0;31m             \u001b[0;32mraise\u001b[0m \u001b[0mValueError\u001b[0m\u001b[0;34m(\u001b[0m\u001b[0;34m'No objects to concatenate'\u001b[0m\u001b[0;34m)\u001b[0m\u001b[0;34m\u001b[0m\u001b[0;34m\u001b[0m\u001b[0m\n\u001b[0m\u001b[1;32m    263\u001b[0m \u001b[0;34m\u001b[0m\u001b[0m\n\u001b[1;32m    264\u001b[0m         \u001b[0;32mif\u001b[0m \u001b[0mkeys\u001b[0m \u001b[0;32mis\u001b[0m \u001b[0;32mNone\u001b[0m\u001b[0;34m:\u001b[0m\u001b[0;34m\u001b[0m\u001b[0;34m\u001b[0m\u001b[0m\n",
      "\u001b[0;31mValueError\u001b[0m: No objects to concatenate"
     ]
    }
   ],
   "source": [
    "cnt = len(files)  # your loop\n",
    "dict_of_df = {} # initialize empty dictionary\n",
    "\n",
    "for i in range(3,cnt):\n",
    "    dict_of_df['df_{}'.format(i)] = pd.read_csv('table_{}.csv'.format(i), skiprows=1,usecols=[0,1,2,3], names=col_names[:4])\n",
    "\n",
    "dfs_list = list(dict_of_df.keys())\n",
    "df = pd.concat(dict_of_df, ignore_index=True)\n",
    "# display(df)\n",
    "df.drop(columns=['Section'], inplace=True)\n",
    "display(df)"
   ]
  },
  {
   "cell_type": "code",
   "execution_count": 101,
   "metadata": {},
   "outputs": [
    {
     "name": "stdout",
     "output_type": "stream",
     "text": [
      "<class 'pandas.core.frame.DataFrame'>\n",
      "RangeIndex: 28 entries, 0 to 27\n",
      "Data columns (total 3 columns):\n",
      "Course         28 non-null object\n",
      "Num            28 non-null object\n",
      "Description    23 non-null object\n",
      "dtypes: object(3)\n",
      "memory usage: 752.0+ bytes\n"
     ]
    },
    {
     "data": {
      "text/plain": [
       "[(13, 'DISCRETE DYNAMICAL SYSTEMS'),\n",
       " (18, 'SET THEORY'),\n",
       " (23, 'ALGEBRAIC NUMBER THEORY'),\n",
       " (25, 'MATH 457 MCGILL'),\n",
       " (27, 'RANDOM MATRICES')]"
      ]
     },
     "execution_count": 101,
     "metadata": {},
     "output_type": "execute_result"
    }
   ],
   "source": [
    "df.info()\n",
    "\n",
    "mask = df.Course == 'Course Topic:'\n",
    "topics_ind = list(df[mask].index)\n",
    "topics = list(df[mask].Num.values)\n",
    "\n",
    "locations = list(zip(topics_ind, topics))\n",
    "locations"
   ]
  },
  {
   "cell_type": "code",
   "execution_count": 112,
   "metadata": {},
   "outputs": [],
   "source": [
    "for i in range(len(locations)):\n",
    "    if i == 3:\n",
    "        df.loc[locations[i][0]-1].Course = 'MATH'\n",
    "        df.loc[locations[i][0]-1].Num = '457'\n",
    "    else:\n",
    "        df.iloc[locations[i][0]-1].Description = locations[i][1]"
   ]
  },
  {
   "cell_type": "code",
   "execution_count": 122,
   "metadata": {},
   "outputs": [
    {
     "name": "stdout",
     "output_type": "stream",
     "text": [
      "<class 'pandas.core.frame.DataFrame'>\n",
      "Int64Index: 23 entries, 0 to 26\n",
      "Data columns (total 3 columns):\n",
      "Course         23 non-null object\n",
      "Num            23 non-null object\n",
      "Description    23 non-null object\n",
      "dtypes: object(3)\n",
      "memory usage: 736.0+ bytes\n"
     ]
    }
   ],
   "source": [
    "df.Num = df.Num.astype(str);\n",
    "df.info()"
   ]
  },
  {
   "cell_type": "code",
   "execution_count": 127,
   "metadata": {},
   "outputs": [],
   "source": [
    "df['Course_Num'] = df['Course'] + ' ' + df['Num']\n",
    "df.drop(columns=['Course', 'Num'], inplace=True)"
   ]
  },
  {
   "cell_type": "code",
   "execution_count": 130,
   "metadata": {},
   "outputs": [],
   "source": [
    "df = df[['Course_Num', 'Description']]"
   ]
  },
  {
   "cell_type": "code",
   "execution_count": 140,
   "metadata": {},
   "outputs": [
    {
     "data": {
      "text/html": [
       "<div>\n",
       "<style scoped>\n",
       "    .dataframe tbody tr th:only-of-type {\n",
       "        vertical-align: middle;\n",
       "    }\n",
       "\n",
       "    .dataframe tbody tr th {\n",
       "        vertical-align: top;\n",
       "    }\n",
       "\n",
       "    .dataframe thead th {\n",
       "        text-align: right;\n",
       "    }\n",
       "</style>\n",
       "<table border=\"1\" class=\"dataframe\">\n",
       "  <thead>\n",
       "    <tr style=\"text-align: right;\">\n",
       "      <th></th>\n",
       "      <th>Course_Num</th>\n",
       "      <th>Description</th>\n",
       "    </tr>\n",
       "  </thead>\n",
       "  <tbody>\n",
       "    <tr>\n",
       "      <th>0</th>\n",
       "      <td>FRAN 305</td>\n",
       "      <td>Communication Orale</td>\n",
       "    </tr>\n",
       "    <tr>\n",
       "      <th>1</th>\n",
       "      <td>GEOL 210</td>\n",
       "      <td>Introduction To The Earth</td>\n",
       "    </tr>\n",
       "    <tr>\n",
       "      <th>2</th>\n",
       "      <td>MAST 217</td>\n",
       "      <td>Intro/Mathematical Thinking</td>\n",
       "    </tr>\n",
       "    <tr>\n",
       "      <th>3</th>\n",
       "      <td>MAST 219</td>\n",
       "      <td>Multivariable Calculus Ii</td>\n",
       "    </tr>\n",
       "    <tr>\n",
       "      <th>4</th>\n",
       "      <td>MECH 211</td>\n",
       "      <td>Mechanical Engr. Drawing</td>\n",
       "    </tr>\n",
       "    <tr>\n",
       "      <th>5</th>\n",
       "      <td>GEOL 208</td>\n",
       "      <td>The Earth, Moon And Planets</td>\n",
       "    </tr>\n",
       "    <tr>\n",
       "      <th>6</th>\n",
       "      <td>MATH 252</td>\n",
       "      <td>Linear Algebra Ii</td>\n",
       "    </tr>\n",
       "    <tr>\n",
       "      <th>7</th>\n",
       "      <td>MATH 365</td>\n",
       "      <td>Analysis Ii</td>\n",
       "    </tr>\n",
       "    <tr>\n",
       "      <th>8</th>\n",
       "      <td>STAT 249</td>\n",
       "      <td>Probability I</td>\n",
       "    </tr>\n",
       "    <tr>\n",
       "      <th>9</th>\n",
       "      <td>MATH 366</td>\n",
       "      <td>Complex Analysis I</td>\n",
       "    </tr>\n",
       "    <tr>\n",
       "      <th>10</th>\n",
       "      <td>MATH 369</td>\n",
       "      <td>Abstract Algebra I</td>\n",
       "    </tr>\n",
       "    <tr>\n",
       "      <th>11</th>\n",
       "      <td>MATH 392</td>\n",
       "      <td>Elementary Number Theory</td>\n",
       "    </tr>\n",
       "    <tr>\n",
       "      <th>12</th>\n",
       "      <td>MATH 475</td>\n",
       "      <td>Discrete Dynamical Systems</td>\n",
       "    </tr>\n",
       "    <tr>\n",
       "      <th>14</th>\n",
       "      <td>MATH 252</td>\n",
       "      <td>Linear Algebra Ii</td>\n",
       "    </tr>\n",
       "    <tr>\n",
       "      <th>15</th>\n",
       "      <td>MATH 467</td>\n",
       "      <td>Measure Theory</td>\n",
       "    </tr>\n",
       "    <tr>\n",
       "      <th>16</th>\n",
       "      <td>MATH 470</td>\n",
       "      <td>Abstract Algebra Ii</td>\n",
       "    </tr>\n",
       "    <tr>\n",
       "      <th>17</th>\n",
       "      <td>MATH 494</td>\n",
       "      <td>Set Theory</td>\n",
       "    </tr>\n",
       "    <tr>\n",
       "      <th>19</th>\n",
       "      <td>MATH 354</td>\n",
       "      <td>Numerical Analysis</td>\n",
       "    </tr>\n",
       "    <tr>\n",
       "      <th>20</th>\n",
       "      <td>MATH 370</td>\n",
       "      <td>Ordinary Differential Equat.</td>\n",
       "    </tr>\n",
       "    <tr>\n",
       "      <th>21</th>\n",
       "      <td>MATH 464</td>\n",
       "      <td>Real Analysis</td>\n",
       "    </tr>\n",
       "    <tr>\n",
       "      <th>22</th>\n",
       "      <td>MATH 494</td>\n",
       "      <td>Algebraic Number Theory</td>\n",
       "    </tr>\n",
       "    <tr>\n",
       "      <th>24</th>\n",
       "      <td>MATH 457</td>\n",
       "      <td>Honours Algebra 4</td>\n",
       "    </tr>\n",
       "    <tr>\n",
       "      <th>26</th>\n",
       "      <td>MATH 494</td>\n",
       "      <td>Random Matrices</td>\n",
       "    </tr>\n",
       "  </tbody>\n",
       "</table>\n",
       "</div>"
      ],
      "text/plain": [
       "   Course_Num                   Description\n",
       "0    FRAN 305           Communication Orale\n",
       "1    GEOL 210     Introduction To The Earth\n",
       "2    MAST 217   Intro/Mathematical Thinking\n",
       "3    MAST 219     Multivariable Calculus Ii\n",
       "4    MECH 211      Mechanical Engr. Drawing\n",
       "5    GEOL 208   The Earth, Moon And Planets\n",
       "6    MATH 252             Linear Algebra Ii\n",
       "7    MATH 365                   Analysis Ii\n",
       "8    STAT 249                 Probability I\n",
       "9    MATH 366            Complex Analysis I\n",
       "10   MATH 369            Abstract Algebra I\n",
       "11   MATH 392      Elementary Number Theory\n",
       "12   MATH 475    Discrete Dynamical Systems\n",
       "14   MATH 252             Linear Algebra Ii\n",
       "15   MATH 467                Measure Theory\n",
       "16   MATH 470           Abstract Algebra Ii\n",
       "17   MATH 494                    Set Theory\n",
       "19   MATH 354            Numerical Analysis\n",
       "20   MATH 370  Ordinary Differential Equat.\n",
       "21   MATH 464                 Real Analysis\n",
       "22   MATH 494       Algebraic Number Theory\n",
       "24   MATH 457             Honours Algebra 4\n",
       "26   MATH 494               Random Matrices"
      ]
     },
     "execution_count": 140,
     "metadata": {},
     "output_type": "execute_result"
    }
   ],
   "source": [
    "df['Description'] = df['Description'].str.title()\n",
    "df['Description']\n",
    "df"
   ]
  },
  {
   "cell_type": "code",
   "execution_count": 143,
   "metadata": {},
   "outputs": [],
   "source": [
    "df.to_csv('course_history.csv')"
   ]
  },
  {
   "cell_type": "code",
   "execution_count": 145,
   "metadata": {},
   "outputs": [],
   "source": [
    "df.to_html('course_history.html', index=False)"
   ]
  },
  {
   "cell_type": "code",
   "execution_count": 8,
   "metadata": {},
   "outputs": [],
   "source": [
    "import os"
   ]
  },
  {
   "cell_type": "code",
   "execution_count": 15,
   "metadata": {},
   "outputs": [],
   "source": [
    "os.chdir('/Users/joshuafiddler/OneDrive/Programming/Projects/babyalgebraist.github.io/')"
   ]
  },
  {
   "cell_type": "code",
   "execution_count": 25,
   "metadata": {},
   "outputs": [
    {
     "name": "stdout",
     "output_type": "stream",
     "text": [
      "/Users/joshuafiddler/OneDrive/Programming/Projects/babyalgebraist.github.io/assets\n"
     ]
    }
   ],
   "source": [
    "%cd assets"
   ]
  },
  {
   "cell_type": "code",
   "execution_count": 27,
   "metadata": {},
   "outputs": [
    {
     "name": "stdout",
     "output_type": "stream",
     "text": [
      "/Users/joshuafiddler/OneDrive/Programming/Projects/babyalgebraist.github.io\n"
     ]
    }
   ],
   "source": [
    "%cd .."
   ]
  }
 ],
 "metadata": {
  "kernelspec": {
   "display_name": "Python 3",
   "language": "python",
   "name": "python3"
  },
  "language_info": {
   "codemirror_mode": {
    "name": "ipython",
    "version": 3
   },
   "file_extension": ".py",
   "mimetype": "text/x-python",
   "name": "python",
   "nbconvert_exporter": "python",
   "pygments_lexer": "ipython3",
   "version": "3.7.2"
  }
 },
 "nbformat": 4,
 "nbformat_minor": 2
}
